{
 "cells": [
  {
   "cell_type": "markdown",
   "id": "0bcf32cc",
   "metadata": {},
   "source": [
    "# MLB-Sim"
   ]
  },
  {
   "cell_type": "markdown",
   "id": "a6509608",
   "metadata": {},
   "source": [
    "## setup"
   ]
  },
  {
   "cell_type": "markdown",
   "id": "b4ad024e",
   "metadata": {},
   "source": [
    "imports"
   ]
  },
  {
   "cell_type": "code",
   "execution_count": 1,
   "id": "3c7637af",
   "metadata": {},
   "outputs": [],
   "source": [
    "import random"
   ]
  },
  {
   "cell_type": "markdown",
   "id": "c054d724",
   "metadata": {},
   "source": [
    "### team stats"
   ]
  },
  {
   "cell_type": "code",
   "execution_count": 2,
   "id": "58c93b18",
   "metadata": {},
   "outputs": [],
   "source": [
    "tm1_pa = 6172\n",
    "tm1_ab = 5422\n",
    "tm1_ht = 1308\n",
    "tm1_2b = 225\n",
    "tm1_3b = 8\n",
    "tm1_hr = 254\n",
    "tm1_bb = 620\n",
    "tm1_ko = 1391\n",
    "tm1_1b = tm1_ht - (tm1_2b + tm1_3b + tm1_hr)\n",
    " \n",
    "tm1_ip = 1451"
   ]
  },
  {
   "cell_type": "code",
   "execution_count": 3,
   "id": "dc0bbcd1",
   "metadata": {},
   "outputs": [],
   "source": [
    "team1_stats = {\n",
    "    'hits': tm1_1b, \n",
    "    'at_bats': tm1_ab, \n",
    "    'runs': 600,\n",
    "    'innings_pitched':tm1_ip, \n",
    "    'plate_appearances':tm1_pa, \n",
    "    'strikeouts':tm1_ko, \n",
    "    'walks':tm1_bb,\n",
    "    'home_runs':tm1_hr,\n",
    "    '2bs':tm1_2b,\n",
    "    '3bs':tm1_3b\n",
    "}"
   ]
  },
  {
   "cell_type": "code",
   "execution_count": 4,
   "id": "0f3b8ffd",
   "metadata": {},
   "outputs": [],
   "source": [
    "team2_stats = {\n",
    "    'hits': 1300, \n",
    "    'at_bats': 5500, \n",
    "    'runs': 650, \n",
    "    'innings_pitched':1500, \n",
    "    'plate_appearances':5000, \n",
    "    'strikeouts':1500, \n",
    "    'walks': 1500,\n",
    "    'home_runs':tm1_hr,\n",
    "    '2bs':tm1_2b,\n",
    "    '3bs':tm1_3b\n",
    "}"
   ]
  },
  {
   "cell_type": "markdown",
   "id": "42057ee9",
   "metadata": {},
   "source": [
    "### Simulate at-bat function"
   ]
  },
  {
   "cell_type": "code",
   "execution_count": 5,
   "id": "a891fa3a",
   "metadata": {},
   "outputs": [],
   "source": [
    "def simulate_at_bat(batter_stats, pitcher_stats):\n",
    "    # Determine the probability of each outcome based on the players' stats\n",
    "    hit_prob = batter_stats['hits'] / batter_stats['at_bats']\n",
    "    strike_prob = pitcher_stats['strikeouts'] / pitcher_stats['innings_pitched']\n",
    "    walk_prob = batter_stats['walks'] / batter_stats['plate_appearances']\n",
    "    hr_prob = batter_stats['home_runs'] / batter_stats['plate_appearances']\n",
    "    # Normalize the probabilities\n",
    "    #total_prob = hit_prob + strike_prob + walk_prob\n",
    "    #hit_prob /= total_prob\n",
    "    #strike_prob /= total_prob\n",
    "    #walk_prob /= total_prob\n",
    " \n",
    "    # Randomly determine the outcome of the at-bat\n",
    "    outcome = random.choices(['hit', 'strikeout', 'walk', 'home_run'], [hit_prob, strike_prob, walk_prob, hr_prob])[0]\n",
    "    #print(outcome)\n",
    "    return outcome"
   ]
  },
  {
   "cell_type": "markdown",
   "id": "3c865753",
   "metadata": {},
   "source": [
    "### Simulate game function"
   ]
  },
  {
   "cell_type": "code",
   "execution_count": 6,
   "id": "dfae42ea",
   "metadata": {},
   "outputs": [],
   "source": [
    "def simulate_game(team1_stats, team2_stats):\n",
    "    # Set up game state\n",
    "    inning_num = 1 # Use a different variable name for the inning number\n",
    "    outs = 0\n",
    "    inning_runs = 0 # Use a different variable name for the runs scored in each inning\n",
    "    team1_score = 0\n",
    "    team2_score = 0\n",
    "    inning_bases = 0\n",
    " \n",
    "    # Simulate each inning\n",
    "    while inning_num <= 9:\n",
    "        # Simulate each at-bat\n",
    "        while outs < 3:\n",
    "            # Determine which team is at bat\n",
    "            if inning_num % 2 == 1:\n",
    "                batting_team_stats = team1_stats\n",
    "                pitching_team_stats = team2_stats\n",
    "            else:\n",
    "                batting_team_stats = team2_stats\n",
    "                pitching_team_stats = team1_stats\n",
    " \n",
    "            # Simulate the at-bat\n",
    "            outcome = simulate_at_bat(batting_team_stats, pitching_team_stats)\n",
    " \n",
    "            # Update game state based on the outcome\n",
    "            if outcome == 'hit':\n",
    "                inning_bases += 1\n",
    "                #inning_runs += 1\n",
    "            elif outcome == 'strikeout':\n",
    "                outs += 1\n",
    "                #print(outs)\n",
    "            elif outcome == 'walk':\n",
    "                inning_bases += 1\n",
    "                #inning_runs += 1\n",
    "            elif outcome == 'home_run':\n",
    "                inning_runs += inning_bases + 1\n",
    "                inning_bases = 0\n",
    "                print(str(inning_runs)+'hr')\n",
    "            ##### adding more options for later\n",
    "            elif outcome == '2b':\n",
    "                #if inning_bases < 1:\n",
    "                inning_bases += 2\n",
    "                \n",
    "            elif outcome == '3b':\n",
    "                inning_bases += 3\n",
    "            ##### add runs according to bases\n",
    "            if inning_bases > 3:\n",
    "                inning_runs += 1\n",
    "                inning_bases -= 1\n",
    "                #print(\"added\")\n",
    "            ##########################\n",
    "            #print(\"outs ==\" +str(outs))\n",
    "            #print(\"inning is \"+str(inning_num))\n",
    " \n",
    "            # Check for end of inning\n",
    "            if outs == 3:\n",
    "                if inning_num % 2 == 1:\n",
    "                    team1_score += inning_runs\n",
    "                else:\n",
    "                    team2_score += inning_runs\n",
    "                outs = 0\n",
    "                inning_runs = 0\n",
    "                inning_bases = 0\n",
    " \n",
    "        # Increment the inning number after each half-inning\n",
    "                inning_num += 1 # Move this statement outside of the if statement and indent it properly\n",
    "                break\n",
    "        #print(inning_num)\n",
    "    # print scores\n",
    "    print(\"Team 1: \" + str(team1_score))\n",
    "    print(\"Team 2: \" + str(team2_score))\n",
    " \n",
    "    # Determine the winner\n",
    "    if team1_score > team2_score:\n",
    "        return 'Team 1 wins!'\n",
    "    elif team2_score > team1_score:\n",
    "        return 'Team 2 wins!'\n",
    "    else:\n",
    "        return 'It\\'s a tie! Extra innings feature not implemented yet'"
   ]
  },
  {
   "cell_type": "markdown",
   "id": "ec7b7776",
   "metadata": {},
   "source": [
    "### Run sim and show results"
   ]
  },
  {
   "cell_type": "code",
   "execution_count": 7,
   "id": "25b299e5",
   "metadata": {},
   "outputs": [
    {
     "name": "stdout",
     "output_type": "stream",
     "text": [
      "Team 1: 0\n",
      "Team 2: 0\n",
      "It's a tie! Extra innings feature not implemented yet\n"
     ]
    }
   ],
   "source": [
    "result = simulate_game(team1_stats, team2_stats)\n",
    "print(result)"
   ]
  },
  {
   "cell_type": "markdown",
   "id": "c2da2873",
   "metadata": {},
   "source": [
    "# Notes"
   ]
  },
  {
   "cell_type": "markdown",
   "id": "ba05c839",
   "metadata": {},
   "source": [
    "- the game must always have a winner (not including rain delays or cancels) so needs to keep game going if tied after 9 and then check each inning for a winner\n",
    "\n",
    "- would like to add a  feature tracking base runners. now, it simply adds runs based on number of bases but that is not accurate. ex, if player hits double then next player hits home run, game will calculate score as 3 runs and not 2 due to 2 total bases + hitter"
   ]
  }
 ],
 "metadata": {
  "kernelspec": {
   "display_name": "Python 3 (ipykernel)",
   "language": "python",
   "name": "python3"
  },
  "language_info": {
   "codemirror_mode": {
    "name": "ipython",
    "version": 3
   },
   "file_extension": ".py",
   "mimetype": "text/x-python",
   "name": "python",
   "nbconvert_exporter": "python",
   "pygments_lexer": "ipython3",
   "version": "3.10.9"
  }
 },
 "nbformat": 4,
 "nbformat_minor": 5
}
