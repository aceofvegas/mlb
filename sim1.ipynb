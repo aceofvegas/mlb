{
 "cells": [
  {
   "cell_type": "code",
   "execution_count": null,
   "id": "4354d250",
   "metadata": {},
   "outputs": [],
   "source": [
    "import random\n",
    " \n",
    "# Team stats\n",
    "team1_stats = {'hits': 1200, 'at_bats': 5000, 'runs': 600, 'innings_pitched':1500, 'plate_appearances':5000, 'strikeouts':1500, 'walks': 1500}\n",
    "team2_stats = {'hits': 1300, 'at_bats': 5500, 'runs': 650, 'innings_pitched':1500, 'plate_appearances':5000, 'strikeouts':1500, 'walks': 1500}\n",
    " \n",
    "# Simulate an at-bat\n",
    "def simulate_at_bat(batter_stats, pitcher_stats):\n",
    "    # Determine the probability of each outcome based on the players' stats\n",
    "    hit_prob = batter_stats['hits'] / batter_stats['at_bats']\n",
    "    strike_prob = pitcher_stats['strikeouts'] / pitcher_stats['innings_pitched']\n",
    "    walk_prob = batter_stats['walks'] / batter_stats['plate_appearances']\n",
    "    # Normalize the probabilities\n",
    "    total_prob = hit_prob + strike_prob + walk_prob\n",
    "    hit_prob /= total_prob\n",
    "    strike_prob /= total_prob\n",
    "    walk_prob /= total_prob\n",
    "\n",
    "    # Randomly determine the outcome of the at-bat\n",
    "    outcome = random.choices(['hit', 'strikeout', 'walk'], [hit_prob, strike_prob, walk_prob])[0]\n",
    "    return outcome\n",
    " \n",
    "# Simulate a game\n",
    "def simulate_game(team1_stats, team2_stats):\n",
    "    # Set up game state\n",
    "    inning = 1\n",
    "    outs = 0\n",
    "    runs = 0\n",
    "    team1_score = 0\n",
    "    team2_score = 0\n",
    " \n",
    "    # Simulate each inning\n",
    "    while inning <= 9:\n",
    "        # Simulate each at-bat\n",
    "        while outs < 3:\n",
    "            # Determine which team is at bat\n",
    "            if inning % 2 == 1:\n",
    "                batting_team_stats = team1_stats\n",
    "                pitching_team_stats = team2_stats\n",
    "            else:\n",
    "                batting_team_stats = team2_stats\n",
    "                pitching_team_stats = team1_stats\n",
    " \n",
    "            # Simulate the at-bat\n",
    "            outcome = simulate_at_bat(batting_team_stats, pitching_team_stats)\n",
    " \n",
    "            # Update game state based on the outcome\n",
    "            if outcome == 'hit':\n",
    "                runs += 1\n",
    "            elif outcome == 'strikeout':\n",
    "                outs += 1\n",
    "            elif outcome == 'walk':\n",
    "                runs += 1\n",
    " \n",
    "            # Check for end of inning\n",
    "            if outs == 3:\n",
    "                if inning % 2 == 1:\n",
    "                    team1_score += runs\n",
    "                else:\n",
    "                    team2_score += runs\n",
    "                inning += 1\n",
    "                outs = 0\n",
    "                runs = 0\n",
    " \n",
    "    # Determine the winner\n",
    "    if team1_score > team2_score:\n",
    "        return 'Team 1 wins!'\n",
    "    elif team2_score > team1_score:\n",
    "        return 'Team 2 wins!'\n",
    "    else:\n",
    "        return 'It\\'s a tie!'\n",
    " \n",
    "# Run the simulation\n",
    "result = simulate_game(team1_stats, team2_stats)\n",
    "print(result)"
   ]
  },
  {
   "cell_type": "markdown",
   "id": "1bca4b2f",
   "metadata": {},
   "source": [
    "# feedback "
   ]
  },
  {
   "cell_type": "markdown",
   "id": "9c8b9b46",
   "metadata": {},
   "source": [
    "### Thank you for sharing part 2 of your code. I see that you have defined a function to simulate a game based on the team stats and the at-bat function. I have run your code and I see that it prints a result. However, I noticed a few issues with your logic that might affect the accuracy of your simulation.😊\n",
    "\n",
    "First, you are not accounting for the different types of hits, such as singles, doubles, triples, or home runs. You are simply adding one run for every hit, which is not realistic. You might want to use a different probability distribution for the types of hits and update the runs accordingly.\n",
    "Second, you are not keeping track of the base runners or the batting order. You are assuming that every walk also results in a run, which is not true unless the bases are loaded. You might want to use a list or a queue to store the base runners and their positions and update them based on the outcome of each at-bat.\n",
    "Third, you are not considering the possibility of errors or fielding plays that could affect the outcome of an at-bat. You are only simulating the interaction between the batter and the pitcher, but there are other factors that could influence the game. You might want to add some more parameters or probabilities to account for these factors.\n",
    "I hope this helps you improve your program and make it more realistic. If you have any questions or need more help, please let me know.😊"
   ]
  },
  {
   "cell_type": "code",
   "execution_count": null,
   "id": "69a8539a",
   "metadata": {},
   "outputs": [],
   "source": []
  },
  {
   "cell_type": "code",
   "execution_count": null,
   "id": "7f3991a4",
   "metadata": {},
   "outputs": [],
   "source": []
  }
 ],
 "metadata": {
  "kernelspec": {
   "display_name": "Python 3 (ipykernel)",
   "language": "python",
   "name": "python3"
  },
  "language_info": {
   "codemirror_mode": {
    "name": "ipython",
    "version": 3
   },
   "file_extension": ".py",
   "mimetype": "text/x-python",
   "name": "python",
   "nbconvert_exporter": "python",
   "pygments_lexer": "ipython3",
   "version": "3.10.9"
  }
 },
 "nbformat": 4,
 "nbformat_minor": 5
}
