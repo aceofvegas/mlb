{
 "cells": [
  {
   "cell_type": "code",
   "execution_count": 1,
   "id": "4354d250",
   "metadata": {},
   "outputs": [
    {
     "ename": "KeyError",
     "evalue": "'strikeouts'",
     "output_type": "error",
     "traceback": [
      "\u001b[0;31m---------------------------------------------------------------------------\u001b[0m",
      "\u001b[0;31mKeyError\u001b[0m                                  Traceback (most recent call last)",
      "Cell \u001b[0;32mIn[1], line 69\u001b[0m\n\u001b[1;32m     66\u001b[0m         \u001b[38;5;28;01mreturn\u001b[39;00m \u001b[38;5;124m'\u001b[39m\u001b[38;5;124mIt\u001b[39m\u001b[38;5;130;01m\\'\u001b[39;00m\u001b[38;5;124ms a tie!\u001b[39m\u001b[38;5;124m'\u001b[39m\n\u001b[1;32m     68\u001b[0m \u001b[38;5;66;03m# Run the simulation\u001b[39;00m\n\u001b[0;32m---> 69\u001b[0m result \u001b[38;5;241m=\u001b[39m \u001b[43msimulate_game\u001b[49m\u001b[43m(\u001b[49m\u001b[43mteam1_stats\u001b[49m\u001b[43m,\u001b[49m\u001b[43m \u001b[49m\u001b[43mteam2_stats\u001b[49m\u001b[43m)\u001b[49m\n\u001b[1;32m     70\u001b[0m \u001b[38;5;28mprint\u001b[39m(result)\n",
      "Cell \u001b[0;32mIn[1], line 40\u001b[0m, in \u001b[0;36msimulate_game\u001b[0;34m(team1_stats, team2_stats)\u001b[0m\n\u001b[1;32m     37\u001b[0m     pitching_team_stats \u001b[38;5;241m=\u001b[39m team1_stats\n\u001b[1;32m     39\u001b[0m \u001b[38;5;66;03m# Simulate the at-bat\u001b[39;00m\n\u001b[0;32m---> 40\u001b[0m outcome \u001b[38;5;241m=\u001b[39m \u001b[43msimulate_at_bat\u001b[49m\u001b[43m(\u001b[49m\u001b[43mbatting_team_stats\u001b[49m\u001b[43m,\u001b[49m\u001b[43m \u001b[49m\u001b[43mpitching_team_stats\u001b[49m\u001b[43m)\u001b[49m\n\u001b[1;32m     42\u001b[0m \u001b[38;5;66;03m# Update game state based on the outcome\u001b[39;00m\n\u001b[1;32m     43\u001b[0m \u001b[38;5;28;01mif\u001b[39;00m outcome \u001b[38;5;241m==\u001b[39m \u001b[38;5;124m'\u001b[39m\u001b[38;5;124mhit\u001b[39m\u001b[38;5;124m'\u001b[39m:\n",
      "Cell \u001b[0;32mIn[1], line 11\u001b[0m, in \u001b[0;36msimulate_at_bat\u001b[0;34m(batter_stats, pitcher_stats)\u001b[0m\n\u001b[1;32m      8\u001b[0m \u001b[38;5;28;01mdef\u001b[39;00m \u001b[38;5;21msimulate_at_bat\u001b[39m(batter_stats, pitcher_stats):\n\u001b[1;32m      9\u001b[0m     \u001b[38;5;66;03m# Determine the probability of each outcome based on the players' stats\u001b[39;00m\n\u001b[1;32m     10\u001b[0m     hit_prob \u001b[38;5;241m=\u001b[39m batter_stats[\u001b[38;5;124m'\u001b[39m\u001b[38;5;124mhits\u001b[39m\u001b[38;5;124m'\u001b[39m] \u001b[38;5;241m/\u001b[39m batter_stats[\u001b[38;5;124m'\u001b[39m\u001b[38;5;124mat_bats\u001b[39m\u001b[38;5;124m'\u001b[39m]\n\u001b[0;32m---> 11\u001b[0m     strike_prob \u001b[38;5;241m=\u001b[39m \u001b[43mpitcher_stats\u001b[49m\u001b[43m[\u001b[49m\u001b[38;5;124;43m'\u001b[39;49m\u001b[38;5;124;43mstrikeouts\u001b[39;49m\u001b[38;5;124;43m'\u001b[39;49m\u001b[43m]\u001b[49m \u001b[38;5;241m/\u001b[39m pitcher_stats[\u001b[38;5;124m'\u001b[39m\u001b[38;5;124minnings_pitched\u001b[39m\u001b[38;5;124m'\u001b[39m]\n\u001b[1;32m     12\u001b[0m     walk_prob \u001b[38;5;241m=\u001b[39m batter_stats[\u001b[38;5;124m'\u001b[39m\u001b[38;5;124mwalks\u001b[39m\u001b[38;5;124m'\u001b[39m] \u001b[38;5;241m/\u001b[39m batter_stats[\u001b[38;5;124m'\u001b[39m\u001b[38;5;124mplate_appearances\u001b[39m\u001b[38;5;124m'\u001b[39m]\n\u001b[1;32m     14\u001b[0m     \u001b[38;5;66;03m# Randomly determine the outcome of the at-bat\u001b[39;00m\n",
      "\u001b[0;31mKeyError\u001b[0m: 'strikeouts'"
     ]
    }
   ],
   "source": [
    "import random\n",
    " \n",
    "# Team stats\n",
    "team1_stats = {'hits': 1200, 'at_bats': 5000, 'runs': 600, 'innings_pitched':1500}\n",
    "team2_stats = {'hits': 1300, 'at_bats': 5500, 'runs': 650}\n",
    " \n",
    "# Simulate an at-bat\n",
    "def simulate_at_bat(batter_stats, pitcher_stats):\n",
    "    # Determine the probability of each outcome based on the players' stats\n",
    "    hit_prob = batter_stats['hits'] / batter_stats['at_bats']\n",
    "    strike_prob = pitcher_stats['strikeouts'] / pitcher_stats['innings_pitched']\n",
    "    walk_prob = batter_stats['walks'] / batter_stats['plate_appearances']\n",
    " \n",
    "    # Randomly determine the outcome of the at-bat\n",
    "    outcome = random.choices(['hit', 'strikeout', 'walk'], [hit_prob, strike_prob, walk_prob])[0]\n",
    "    return outcome\n",
    " \n",
    "# Simulate a game\n",
    "def simulate_game(team1_stats, team2_stats):\n",
    "    # Set up game state\n",
    "    inning = 1\n",
    "    outs = 0\n",
    "    runs = 0\n",
    "    team1_score = 0\n",
    "    team2_score = 0\n",
    " \n",
    "    # Simulate each inning\n",
    "    while inning <= 9:\n",
    "        # Simulate each at-bat\n",
    "        while outs < 3:\n",
    "            # Determine which team is at bat\n",
    "            if inning % 2 == 1:\n",
    "                batting_team_stats = team1_stats\n",
    "                pitching_team_stats = team2_stats\n",
    "            else:\n",
    "                batting_team_stats = team2_stats\n",
    "                pitching_team_stats = team1_stats\n",
    " \n",
    "            # Simulate the at-bat\n",
    "            outcome = simulate_at_bat(batting_team_stats, pitching_team_stats)\n",
    " \n",
    "            # Update game state based on the outcome\n",
    "            if outcome == 'hit':\n",
    "                runs += 1\n",
    "            elif outcome == 'strikeout':\n",
    "                outs += 1\n",
    "            elif outcome == 'walk':\n",
    "                runs += 1\n",
    " \n",
    "            # Check for end of inning\n",
    "            if outs == 3:\n",
    "                if inning % 2 == 1:\n",
    "                    team1_score += runs\n",
    "                else:\n",
    "                    team2_score += runs\n",
    "                inning += 1\n",
    "                outs = 0\n",
    "                runs = 0\n",
    " \n",
    "    # Determine the winner\n",
    "    if team1_score > team2_score:\n",
    "        return 'Team 1 wins!'\n",
    "    elif team2_score > team1_score:\n",
    "        return 'Team 2 wins!'\n",
    "    else:\n",
    "        return 'It\\'s a tie!'\n",
    " \n",
    "# Run the simulation\n",
    "result = simulate_game(team1_stats, team2_stats)\n",
    "print(result)"
   ]
  },
  {
   "cell_type": "code",
   "execution_count": null,
   "id": "a0e0fc49",
   "metadata": {},
   "outputs": [],
   "source": []
  }
 ],
 "metadata": {
  "kernelspec": {
   "display_name": "Python 3 (ipykernel)",
   "language": "python",
   "name": "python3"
  },
  "language_info": {
   "codemirror_mode": {
    "name": "ipython",
    "version": 3
   },
   "file_extension": ".py",
   "mimetype": "text/x-python",
   "name": "python",
   "nbconvert_exporter": "python",
   "pygments_lexer": "ipython3",
   "version": "3.10.9"
  }
 },
 "nbformat": 4,
 "nbformat_minor": 5
}
