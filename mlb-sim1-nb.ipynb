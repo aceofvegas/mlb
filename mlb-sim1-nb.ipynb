{
 "cells": [
  {
   "cell_type": "markdown",
   "id": "ce63fd63",
   "metadata": {},
   "source": [
    "# MLB-Sim"
   ]
  },
  {
   "cell_type": "markdown",
   "id": "04c67853",
   "metadata": {},
   "source": [
    "## setup"
   ]
  },
  {
   "cell_type": "markdown",
   "id": "db3b1eb7",
   "metadata": {},
   "source": [
    "imports"
   ]
  },
  {
   "cell_type": "code",
   "execution_count": 1,
   "id": "4b0ab7fc",
   "metadata": {},
   "outputs": [],
   "source": [
    "import random"
   ]
  },
  {
   "cell_type": "markdown",
   "id": "b1448e3c",
   "metadata": {},
   "source": [
    "### team stats"
   ]
  },
  {
   "cell_type": "code",
   "execution_count": 2,
   "id": "6f7f7b4c",
   "metadata": {},
   "outputs": [],
   "source": [
    "team1_stats = {'hits': 1200, 'at_bats': 5000, 'runs': 600, 'innings_pitched':1500, 'plate_appearances':5000, 'strikeouts':1500, 'walks': 1500}"
   ]
  },
  {
   "cell_type": "code",
   "execution_count": 3,
   "id": "b5301078",
   "metadata": {},
   "outputs": [],
   "source": [
    "team2_stats = {'hits': 1300, 'at_bats': 5500, 'runs': 650, 'innings_pitched':1500, 'plate_appearances':5000, 'strikeouts':1500, 'walks': 1500}"
   ]
  },
  {
   "cell_type": "markdown",
   "id": "f64783b1",
   "metadata": {},
   "source": [
    "### Simulate at-bat function"
   ]
  },
  {
   "cell_type": "code",
   "execution_count": 4,
   "id": "aaa96ece",
   "metadata": {},
   "outputs": [],
   "source": [
    "def simulate_at_bat(batter_stats, pitcher_stats):\n",
    "    # Determine the probability of each outcome based on the players' stats\n",
    "    hit_prob = batter_stats['hits'] / batter_stats['at_bats']\n",
    "    strike_prob = pitcher_stats['strikeouts'] / pitcher_stats['innings_pitched']\n",
    "    walk_prob = batter_stats['walks'] / batter_stats['plate_appearances']\n",
    "    # Normalize the probabilities\n",
    "    total_prob = hit_prob + strike_prob + walk_prob\n",
    "    hit_prob /= total_prob\n",
    "    strike_prob /= total_prob\n",
    "    walk_prob /= total_prob\n",
    "\n",
    "    # Randomly determine the outcome of the at-bat\n",
    "    outcome = random.choices(['hit', 'strikeout', 'walk'], [hit_prob, strike_prob, walk_prob])[0]\n",
    "    #print(outcome)\n",
    "    return outcome"
   ]
  },
  {
   "cell_type": "markdown",
   "id": "d5d7cbc3",
   "metadata": {},
   "source": [
    "### Simulate game function"
   ]
  },
  {
   "cell_type": "code",
   "execution_count": 5,
   "id": "a46c1334",
   "metadata": {},
   "outputs": [],
   "source": [
    "def simulate_game(team1_stats, team2_stats):\n",
    "    # Set up game state\n",
    "    inning_num = 1 # Use a different variable name for the inning number\n",
    "    outs = 0\n",
    "    inning_runs = 0 # Use a different variable name for the runs scored in each inning\n",
    "    team1_score = 0\n",
    "    team2_score = 0\n",
    " \n",
    "    # Simulate each inning\n",
    "    while inning_num <= 9:\n",
    "        # Simulate each at-bat\n",
    "        while outs < 3:\n",
    "            # Determine which team is at bat\n",
    "            if inning_num % 2 == 1:\n",
    "                batting_team_stats = team1_stats\n",
    "                pitching_team_stats = team2_stats\n",
    "            else:\n",
    "                batting_team_stats = team2_stats\n",
    "                pitching_team_stats = team1_stats\n",
    " \n",
    "            # Simulate the at-bat\n",
    "            outcome = simulate_at_bat(batting_team_stats, pitching_team_stats)\n",
    " \n",
    "            # Update game state based on the outcome\n",
    "            if outcome == 'hit':\n",
    "                inning_runs += 1\n",
    "            elif outcome == 'strikeout':\n",
    "                outs += 1\n",
    "            elif outcome == 'walk':\n",
    "                inning_runs += 1\n",
    "            ##########################\n",
    "            #print(\"outs ==\" +str(outs))\n",
    "            #print(\"inning is \"+str(inning_num))\n",
    " \n",
    "            # Check for end of inning\n",
    "            if outs == 3:\n",
    "                if inning_num % 2 == 1:\n",
    "                    team1_score += inning_runs\n",
    "                else:\n",
    "                    team2_score += inning_runs\n",
    "                outs = 0\n",
    "                inning_runs = 0\n",
    "        \n",
    "        # Increment the inning number after each half-inning\n",
    "                inning_num += 1 # Move this statement outside of the if statement and indent it properly\n",
    "                break\n",
    "        print(inning_num)\n",
    "    # print scores\n",
    "    #print(\"Team 1: \" + str(team1_score))\n",
    "    #print(\"Team 2: \" + str(team2_score))\n",
    " \n",
    "    # Determine the winner\n",
    "    if team1_score > team2_score:\n",
    "        return 'Team 1 wins!'\n",
    "    elif team2_score > team1_score:\n",
    "        return 'Team 2 wins!'\n",
    "    else:\n",
    "        return 'It\\'s a tie!'"
   ]
  },
  {
   "cell_type": "markdown",
   "id": "c06f50a1",
   "metadata": {},
   "source": [
    "### Run sim and show results"
   ]
  },
  {
   "cell_type": "code",
   "execution_count": 6,
   "id": "e126b06a",
   "metadata": {},
   "outputs": [
    {
     "name": "stdout",
     "output_type": "stream",
     "text": [
      "2\n",
      "3\n",
      "4\n",
      "5\n",
      "6\n",
      "7\n",
      "8\n",
      "9\n",
      "10\n",
      "It's a tie!\n"
     ]
    }
   ],
   "source": [
    "result = simulate_game(team1_stats, team2_stats)\n",
    "print(result)"
   ]
  },
  {
   "cell_type": "markdown",
   "id": "76b91ddb",
   "metadata": {},
   "source": [
    "# Notes"
   ]
  },
  {
   "cell_type": "markdown",
   "id": "fff925c1",
   "metadata": {},
   "source": [
    "- the game must always have a winner (not including rain delays or cancels) so needs to keep game going if tied after 9 and then check each inning for a winner"
   ]
  },
  {
   "cell_type": "code",
   "execution_count": null,
   "id": "8ad34e87",
   "metadata": {},
   "outputs": [],
   "source": []
  }
 ],
 "metadata": {
  "kernelspec": {
   "display_name": "Python 3 (ipykernel)",
   "language": "python",
   "name": "python3"
  },
  "language_info": {
   "codemirror_mode": {
    "name": "ipython",
    "version": 3
   },
   "file_extension": ".py",
   "mimetype": "text/x-python",
   "name": "python",
   "nbconvert_exporter": "python",
   "pygments_lexer": "ipython3",
   "version": "3.10.9"
  }
 },
 "nbformat": 4,
 "nbformat_minor": 5
}
